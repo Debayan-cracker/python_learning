{
 "cells": [
  {
   "cell_type": "code",
   "execution_count": 1,
   "id": "53b5a2c5",
   "metadata": {},
   "outputs": [
    {
     "name": "stdout",
     "output_type": "stream",
     "text": [
      "How many nos want to print ?\n",
      " I want to print = 10\n",
      "0\n",
      "1\n",
      "1\n",
      "2\n",
      "3\n",
      "5\n",
      "8\n",
      "13\n",
      "21\n",
      "34\n"
     ]
    }
   ],
   "source": [
    "# Fibonnaci series print:\n",
    "def fib(n):\n",
    "    a=0\n",
    "    b=1\n",
    "    print(a)\n",
    "    print(b)\n",
    "    \n",
    "    for i in range(2,n):\n",
    "        c=a+b\n",
    "        a=b\n",
    "        b=c\n",
    "        print(c)\n",
    "         \n",
    "n=int(input(\"How many nos want to print ?\\n I want to print = \"))    \n",
    "fib(n)\n",
    "    "
   ]
  },
  {
   "cell_type": "code",
   "execution_count": 2,
   "id": "e60e7696",
   "metadata": {},
   "outputs": [
    {
     "name": "stdout",
     "output_type": "stream",
     "text": [
      "How many nos want to print ?\n",
      " I want to print = 10\n",
      "[0, 1, 1, 2, 3, 5, 8, 13, 21, 34]\n"
     ]
    }
   ],
   "source": [
    "# Fibonacci serie print and shows as an array:\n",
    "def fib(n):\n",
    "    l=[]\n",
    "    a=0\n",
    "    b=1\n",
    "    l.append(a)\n",
    "    l.append(b)\n",
    "    for i in range(2,n):\n",
    "        c=a+b\n",
    "        a=b\n",
    "        b=c\n",
    "        l.append(c)\n",
    "    print(l)\n",
    "        \n",
    "n=int(input(\"How many nos want to print ?\\n I want to print = \"))    \n",
    "fib(n)\n",
    "# print(l)"
   ]
  },
  {
   "cell_type": "code",
   "execution_count": 3,
   "id": "8c6e40c5",
   "metadata": {},
   "outputs": [
    {
     "name": "stdout",
     "output_type": "stream",
     "text": [
      "How many nos want to print ?\n",
      " I want to print = 10\n",
      "34\n"
     ]
    }
   ],
   "source": [
    "def fib(n):\n",
    "    l=[]\n",
    "    a=0\n",
    "    b=1\n",
    "    c=0\n",
    "    l.append(a)\n",
    "    l.append(b)\n",
    "    for i in range(2,n):\n",
    "        c=a+b\n",
    "        a=b\n",
    "        b=c\n",
    "        l.append(c)\n",
    "    return c\n",
    "        \n",
    "n=int(input(\"How many nos want to print ?\\n I want to print = \"))    \n",
    "print(fib(n))\n",
    "# Fibonnaci series last index value print:\n"
   ]
  },
  {
   "cell_type": "code",
   "execution_count": 8,
   "id": "f52e1a38",
   "metadata": {},
   "outputs": [
    {
     "name": "stdout",
     "output_type": "stream",
     "text": [
      "How many nos want to print ?\n",
      " I want to print = 40\n",
      "[6765, 10946, 17711, 28657, 46368, 75025, 121393, 196418, 317811, 514229, 832040, 1346269, 2178309, 3524578, 5702887, 9227465, 14930352, 24157817, 39088169, 63245986]\n"
     ]
    }
   ],
   "source": [
    "# Fibonacci series print with a limit:\n",
    "l=[]\n",
    "def fib(n):\n",
    "    a=0\n",
    "    b=1\n",
    "    l.append(a)\n",
    "    l.append(b)\n",
    "    for i in range(2,n):\n",
    "        c=a+b\n",
    "        a=b\n",
    "        b=c\n",
    "        l.append(c)\n",
    "#     print(l)\n",
    "        \n",
    "n=int(input(\"How many nos want to print ?\\n I want to print = \"))    \n",
    "fib(n)\n",
    "print(l[20:])"
   ]
  },
  {
   "cell_type": "code",
   "execution_count": 7,
   "id": "da46dc29",
   "metadata": {},
   "outputs": [
    {
     "name": "stdout",
     "output_type": "stream",
     "text": [
      "How many nos want to print ?\n",
      " I want to print = 40\n",
      "[6765, 10946, 17711, 28657, 46368, 75025, 121393, 196418, 317811, 514229, 832040, 1346269, 2178309, 3524578, 5702887, 9227465, 14930352, 24157817, 39088169, 63245986]\n"
     ]
    }
   ],
   "source": [
    "# Diffrent way:\n",
    "def fib(n):\n",
    "    a=0\n",
    "    b=1\n",
    "    l=[]\n",
    "    l.append(a)\n",
    "    l.append(b)\n",
    "    for i in range(2,n):\n",
    "        c=a+b\n",
    "        a=b\n",
    "        b=c\n",
    "        l.append(c)\n",
    "    return l\n",
    "#     print(l)\n",
    "        \n",
    "n=int(input(\"How many nos want to print ?\\n I want to print = \"))    \n",
    "l=fib(n)\n",
    "print(l[20:])"
   ]
  },
  {
   "cell_type": "code",
   "execution_count": 6,
   "id": "b55784fa",
   "metadata": {},
   "outputs": [
    {
     "name": "stdout",
     "output_type": "stream",
     "text": [
      "How many nos want to print ?\n",
      " I want to print = 40\n",
      "[6765, 10946, 17711, 28657, 46368, 75025, 121393, 196418, 317811, 514229, 832040, 1346269, 2178309, 3524578, 5702887, 9227465, 14930352, 24157817, 39088169, 63245986]\n"
     ]
    }
   ],
   "source": [
    "# Diffrent way\n",
    "def fib(n):\n",
    "    a=0\n",
    "    b=1\n",
    "    l=[]\n",
    "    l.append(a)\n",
    "    l.append(b)\n",
    "    for i in range(2,n):\n",
    "        c=a+b\n",
    "        a=b\n",
    "        b=c\n",
    "        l.append(c)\n",
    "    return l\n",
    "#     print(l)\n",
    "        \n",
    "n=int(input(\"How many nos want to print ?\\n I want to print = \"))    \n",
    "\n",
    "print(fib(n)[20:])"
   ]
  },
  {
   "cell_type": "code",
   "execution_count": null,
   "id": "69b29cb0",
   "metadata": {},
   "outputs": [],
   "source": []
  },
  {
   "cell_type": "code",
   "execution_count": null,
   "id": "1ddb532a",
   "metadata": {},
   "outputs": [],
   "source": []
  }
 ],
 "metadata": {
  "kernelspec": {
   "display_name": "Python 3 (ipykernel)",
   "language": "python",
   "name": "python3"
  },
  "language_info": {
   "codemirror_mode": {
    "name": "ipython",
    "version": 3
   },
   "file_extension": ".py",
   "mimetype": "text/x-python",
   "name": "python",
   "nbconvert_exporter": "python",
   "pygments_lexer": "ipython3",
   "version": "3.9.4"
  }
 },
 "nbformat": 4,
 "nbformat_minor": 5
}
