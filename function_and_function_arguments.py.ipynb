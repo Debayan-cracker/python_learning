{
 "cells": [
  {
   "cell_type": "code",
   "execution_count": 1,
   "id": "bdd338a2",
   "metadata": {},
   "outputs": [
    {
     "name": "stdout",
     "output_type": "stream",
     "text": [
      "8\n"
     ]
    },
    {
     "data": {
      "text/plain": [
       "700"
      ]
     },
     "execution_count": 1,
     "metadata": {},
     "output_type": "execute_result"
    }
   ],
   "source": [
    "#def=keyword for defining function , abc-function name , x=formal arguments , abc(10)=10 is the actual arguments\n",
    "#Here i'm using x two times to check which value can return, so in function whatever value i can put if i used same arguments in \n",
    "#n no of times it can retuen whatever value we pass . Its not updated and cannot takes latest value.\n",
    "def abc(x):\n",
    "    x=8\n",
    "    print(x)\n",
    "abc(10)\n",
    "def sum(z,y):\n",
    "    x=z+y\n",
    "    return x\n",
    "sum(200,500)"
   ]
  },
  {
   "cell_type": "markdown",
   "id": "39548176",
   "metadata": {},
   "source": [
    "### Function Test and Arguments pass:"
   ]
  },
  {
   "cell_type": "markdown",
   "id": "85565385",
   "metadata": {},
   "source": [
    "### Add two numbers:"
   ]
  },
  {
   "cell_type": "code",
   "execution_count": 2,
   "id": "98652a84",
   "metadata": {},
   "outputs": [
    {
     "name": "stdout",
     "output_type": "stream",
     "text": [
      "Enter 1st number = 56\n",
      "Enter 2nd number = 45\n",
      "101\n"
     ]
    }
   ],
   "source": [
    "#Senario - 1\n",
    "def add(a,b): #(a,b) these two are FORMAL ARGUMENTS <----These is the function define\n",
    "    c=a+b\n",
    "    print(c)\n",
    "\n",
    "x=int(input('Enter 1st number = '))\n",
    "y=int(input('Enter 2nd number = '))\n",
    "add(x,y)  #(x,y) these two are ACTUAL ARGUMENTS <----This is the function call"
   ]
  },
  {
   "cell_type": "code",
   "execution_count": 3,
   "id": "77498b23",
   "metadata": {},
   "outputs": [
    {
     "data": {
      "text/plain": [
       "66"
      ]
     },
     "execution_count": 3,
     "metadata": {},
     "output_type": "execute_result"
    }
   ],
   "source": [
    "#Senario - 2\n",
    "def add(a,b):\n",
    "    c=a+b\n",
    "    return(c)\n",
    "add(56,10)"
   ]
  },
  {
   "cell_type": "code",
   "execution_count": 4,
   "id": "751b88f9",
   "metadata": {},
   "outputs": [
    {
     "name": "stdout",
     "output_type": "stream",
     "text": [
      "101\n",
      "Enter 1st number = 89\n",
      "Enter 2nd number = 6\n"
     ]
    }
   ],
   "source": [
    "#Senario - 1\n",
    "def add(a,b): #(a,b) these two are FORMAL ARGUMENTS\n",
    "    c=a+b\n",
    "    print(c)\n",
    "\n",
    "add(x,y)  #(x,y) these two are ACTUAL ARGUMENTS\n",
    "\n",
    "x=int(input('Enter 1st number = ')) # So doesnot matter where we can ask input from user:\n",
    "y=int(input('Enter 2nd number = ')) # we can ask before fumction call or we can ask after function calling."
   ]
  },
  {
   "cell_type": "code",
   "execution_count": 5,
   "id": "71302988",
   "metadata": {},
   "outputs": [
    {
     "name": "stdout",
     "output_type": "stream",
     "text": [
      "Debayan\n",
      "26\n"
     ]
    }
   ],
   "source": [
    "def person(name , age):\n",
    "    print(name)\n",
    "    print(age)\n",
    "person('Debayan' , 26)   "
   ]
  },
  {
   "cell_type": "code",
   "execution_count": 6,
   "id": "ff22802c",
   "metadata": {},
   "outputs": [
    {
     "name": "stdout",
     "output_type": "stream",
     "text": [
      "26\n",
      "Deba\n"
     ]
    }
   ],
   "source": [
    "def dhabu(nick_name , cls):\n",
    "    print(nick_name)\n",
    "    print(cls)\n",
    "dhabu(26,'Deba') #Why this is not showing error?"
   ]
  },
  {
   "cell_type": "code",
   "execution_count": 7,
   "id": "ac79c0de",
   "metadata": {},
   "outputs": [
    {
     "name": "stdout",
     "output_type": "stream",
     "text": [
      "Debayan\n",
      "26\n"
     ]
    }
   ],
   "source": [
    "#Another type (Keyword type):\n",
    "def person(name , age):\n",
    "    print(name)\n",
    "    print(age)\n",
    "person(age = 26,name = 'Debayan')"
   ]
  },
  {
   "cell_type": "markdown",
   "id": "a302ae23",
   "metadata": {},
   "source": [
    "# KEYWORD PASSING :"
   ]
  },
  {
   "cell_type": "code",
   "execution_count": 8,
   "id": "5571dd2b",
   "metadata": {},
   "outputs": [
    {
     "name": "stdout",
     "output_type": "stream",
     "text": [
      "26\n",
      "Debayan\n",
      "Dhabu\n",
      "-------------------------------------------------------------------------\n",
      "Debayan\n",
      "26\n",
      "Dhabu\n"
     ]
    }
   ],
   "source": [
    "def person(name , age , nick_name):\n",
    "    print(name)\n",
    "    print(age)\n",
    "    print(nick_name)\n",
    "person(26,'Debayan','Dhabu') #So see here we get an o/p but cann't get relevent o/p\n",
    "                             # see what is nickname?,what is name? cannot understand.so that reason have to pass keyword that's \n",
    "                             # why we can get exact output.\n",
    "\n",
    "\n",
    "print('-------------------------------------------------------------------------')\n",
    "def person(name , age , nick_name):\n",
    "    print(name)\n",
    "    print(age)\n",
    "    print(nick_name)\n",
    "person(age = 26,name  = 'Debayan',nick_name = 'Dhabu')"
   ]
  },
  {
   "cell_type": "markdown",
   "id": "21eba21d",
   "metadata": {},
   "source": [
    "# DEFAULT VALUE:whenever u didn't pass same parameter in Formal Arguments , that time have to send default value in Formal Parameter."
   ]
  },
  {
   "cell_type": "code",
   "execution_count": 9,
   "id": "bd432782",
   "metadata": {},
   "outputs": [
    {
     "ename": "TypeError",
     "evalue": "person() missing 1 required positional argument: 'age'",
     "output_type": "error",
     "traceback": [
      "\u001b[1;31m---------------------------------------------------------------------------\u001b[0m",
      "\u001b[1;31mTypeError\u001b[0m                                 Traceback (most recent call last)",
      "Cell \u001b[1;32mIn[9], line 4\u001b[0m\n\u001b[0;32m      2\u001b[0m     \u001b[38;5;28mprint\u001b[39m(name)\n\u001b[0;32m      3\u001b[0m     \u001b[38;5;28mprint\u001b[39m(age)\n\u001b[1;32m----> 4\u001b[0m \u001b[43mperson\u001b[49m\u001b[43m(\u001b[49m\u001b[38;5;124;43m'\u001b[39;49m\u001b[38;5;124;43mDebayan\u001b[39;49m\u001b[38;5;124;43m'\u001b[39;49m\u001b[43m)\u001b[49m\n",
      "\u001b[1;31mTypeError\u001b[0m: person() missing 1 required positional argument: 'age'"
     ]
    }
   ],
   "source": [
    "def person(name , age):\n",
    "    print(name)\n",
    "    print(age)\n",
    "person('Debayan')"
   ]
  },
  {
   "cell_type": "code",
   "execution_count": 10,
   "id": "bacf7719",
   "metadata": {},
   "outputs": [
    {
     "name": "stdout",
     "output_type": "stream",
     "text": [
      "Debayan\n",
      "26\n"
     ]
    }
   ],
   "source": [
    "def person(name , age = 26): # default value is age = 26 which is passing through formal parameter\n",
    "    print(name)\n",
    "    print(age)\n",
    "person('Debayan')"
   ]
  },
  {
   "cell_type": "markdown",
   "id": "e6cec483",
   "metadata": {},
   "source": [
    "## Variable Length Arguments : \n",
    "We can define a function where the no of arguments are not fixed,means leanth is not confirmed, that case have to do *b,\n",
    "*b means=we can have multiple values. So that in that caod a =56 and b =(30,45,78). And b is tuple so cannot join int type + tuple type. In that case what have to do: like have to do fetch one by one tuple value and and to int.That's it."
   ]
  },
  {
   "cell_type": "code",
   "execution_count": 11,
   "id": "38388569",
   "metadata": {},
   "outputs": [
    {
     "name": "stdout",
     "output_type": "stream",
     "text": [
      "209\n"
     ]
    }
   ],
   "source": [
    "#Senario - 1:\n",
    "def sum(a,*b):\n",
    "    c=a\n",
    "    for i in b:\n",
    "        c=c+i\n",
    "    \n",
    "    print(c)\n",
    "sum(56,30,45,78)"
   ]
  },
  {
   "cell_type": "code",
   "execution_count": 12,
   "id": "0029a372",
   "metadata": {},
   "outputs": [
    {
     "name": "stdout",
     "output_type": "stream",
     "text": [
      "209\n"
     ]
    }
   ],
   "source": [
    "#Senario - 2 (Here i just not passing the 1st arguments like a)\n",
    "def sum(*b):\n",
    "    c=0\n",
    "    for i in b:\n",
    "        c=c+i\n",
    "    \n",
    "    print(c)\n",
    "sum(56,30,45,78)"
   ]
  },
  {
   "cell_type": "code",
   "execution_count": null,
   "id": "5ee25213",
   "metadata": {},
   "outputs": [],
   "source": []
  }
 ],
 "metadata": {
  "kernelspec": {
   "display_name": "Python 3 (ipykernel)",
   "language": "python",
   "name": "python3"
  },
  "language_info": {
   "codemirror_mode": {
    "name": "ipython",
    "version": 3
   },
   "file_extension": ".py",
   "mimetype": "text/x-python",
   "name": "python",
   "nbconvert_exporter": "python",
   "pygments_lexer": "ipython3",
   "version": "3.9.4"
  }
 },
 "nbformat": 4,
 "nbformat_minor": 5
}
